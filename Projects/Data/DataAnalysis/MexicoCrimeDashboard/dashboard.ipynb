{
 "cells": [
  {
   "cell_type": "markdown",
   "metadata": {},
   "source": [
    "# **Crime Data in Mexico From 2015 to 2023**\n",
    "## A Data Visualization Project\n",
    "\n",
    "\n",
    "### Fernando Herrera"
   ]
  },
  {
   "cell_type": "markdown",
   "metadata": {},
   "source": [
    "### **Introduction**\n",
    "This project has the aim of visualizing several data points regarding crime in Mexico during the years\n",
    "2015 to 2023. Diego Valle's website [elcri.men](https://elcri.men/), contains up to date data extracted directly from official\n",
    "Mexican governmental [sources](https://www.gob.mx/sesnsp/acciones-y-programas/incidencia-delictiva-del-fuero-comun-nueva-metodologia)\n",
    "and provides the monthly crime count for different types of crimes, sub-types and modalities, for each one\n",
    "of Mexico's 32 states. An interactive web application was developed using Dash, allowing the user to select one \n",
    "or several Mexican states to analize, as well as one to several crime types, sub types, and modalities. The user \n",
    "is also able to select the time window to analyze, in order to visualize in a line graph (create using Plotly Express), \n",
    "the total count of the selected crime/s in the selected state/s. The app also offers a pie graph, also created with\n",
    "Plotly Express, in order to compare the total crime count during the time window between all selected states."
   ]
  },
  {
   "cell_type": "markdown",
   "metadata": {},
   "source": [
    "### **Dependencies**"
   ]
  },
  {
   "cell_type": "code",
   "execution_count": 1,
   "metadata": {},
   "outputs": [
    {
     "name": "stdout",
     "output_type": "stream",
     "text": [
      "Requirement already satisfied: ansi2html==1.8.0 in ./.env/lib/python3.10/site-packages (from -r requirements.txt (line 1)) (1.8.0)\n",
      "Requirement already satisfied: appnope==0.1.3 in ./.env/lib/python3.10/site-packages (from -r requirements.txt (line 2)) (0.1.3)\n",
      "Requirement already satisfied: asttokens==2.4.0 in ./.env/lib/python3.10/site-packages (from -r requirements.txt (line 3)) (2.4.0)\n",
      "Requirement already satisfied: backcall==0.2.0 in ./.env/lib/python3.10/site-packages (from -r requirements.txt (line 4)) (0.2.0)\n",
      "Requirement already satisfied: certifi==2023.7.22 in ./.env/lib/python3.10/site-packages (from -r requirements.txt (line 5)) (2023.7.22)\n",
      "Requirement already satisfied: charset-normalizer==3.3.0 in ./.env/lib/python3.10/site-packages (from -r requirements.txt (line 6)) (3.3.0)\n",
      "Requirement already satisfied: click==8.1.7 in ./.env/lib/python3.10/site-packages (from -r requirements.txt (line 7)) (8.1.7)\n",
      "Requirement already satisfied: comm==0.1.4 in ./.env/lib/python3.10/site-packages (from -r requirements.txt (line 8)) (0.1.4)\n",
      "Requirement already satisfied: dash==2.14.0 in ./.env/lib/python3.10/site-packages (from -r requirements.txt (line 9)) (2.14.0)\n",
      "Requirement already satisfied: dash-core-components==2.0.0 in ./.env/lib/python3.10/site-packages (from -r requirements.txt (line 10)) (2.0.0)\n",
      "Requirement already satisfied: dash-html-components==2.0.0 in ./.env/lib/python3.10/site-packages (from -r requirements.txt (line 11)) (2.0.0)\n",
      "Requirement already satisfied: dash-table==5.0.0 in ./.env/lib/python3.10/site-packages (from -r requirements.txt (line 12)) (5.0.0)\n",
      "Requirement already satisfied: debugpy==1.8.0 in ./.env/lib/python3.10/site-packages (from -r requirements.txt (line 13)) (1.8.0)\n",
      "Requirement already satisfied: decorator==5.1.1 in ./.env/lib/python3.10/site-packages (from -r requirements.txt (line 14)) (5.1.1)\n",
      "Requirement already satisfied: exceptiongroup==1.1.3 in ./.env/lib/python3.10/site-packages (from -r requirements.txt (line 15)) (1.1.3)\n",
      "Requirement already satisfied: executing==2.0.0 in ./.env/lib/python3.10/site-packages (from -r requirements.txt (line 16)) (2.0.0)\n",
      "Requirement already satisfied: Flask==2.2.5 in ./.env/lib/python3.10/site-packages (from -r requirements.txt (line 17)) (2.2.5)\n",
      "Requirement already satisfied: idna==3.4 in ./.env/lib/python3.10/site-packages (from -r requirements.txt (line 18)) (3.4)\n",
      "Requirement already satisfied: importlib-metadata==6.8.0 in ./.env/lib/python3.10/site-packages (from -r requirements.txt (line 19)) (6.8.0)\n",
      "Requirement already satisfied: ipykernel==6.25.2 in ./.env/lib/python3.10/site-packages (from -r requirements.txt (line 20)) (6.25.2)\n",
      "Requirement already satisfied: ipython==8.16.1 in ./.env/lib/python3.10/site-packages (from -r requirements.txt (line 21)) (8.16.1)\n",
      "Requirement already satisfied: itsdangerous==2.1.2 in ./.env/lib/python3.10/site-packages (from -r requirements.txt (line 22)) (2.1.2)\n",
      "Requirement already satisfied: jedi==0.19.1 in ./.env/lib/python3.10/site-packages (from -r requirements.txt (line 23)) (0.19.1)\n",
      "Requirement already satisfied: Jinja2==3.1.2 in ./.env/lib/python3.10/site-packages (from -r requirements.txt (line 24)) (3.1.2)\n",
      "Requirement already satisfied: jupyter_client==8.4.0 in ./.env/lib/python3.10/site-packages (from -r requirements.txt (line 25)) (8.4.0)\n",
      "Requirement already satisfied: jupyter_core==5.4.0 in ./.env/lib/python3.10/site-packages (from -r requirements.txt (line 26)) (5.4.0)\n",
      "Requirement already satisfied: MarkupSafe==2.1.3 in ./.env/lib/python3.10/site-packages (from -r requirements.txt (line 27)) (2.1.3)\n",
      "Requirement already satisfied: matplotlib-inline==0.1.6 in ./.env/lib/python3.10/site-packages (from -r requirements.txt (line 28)) (0.1.6)\n",
      "Requirement already satisfied: nest-asyncio==1.5.8 in ./.env/lib/python3.10/site-packages (from -r requirements.txt (line 29)) (1.5.8)\n",
      "Requirement already satisfied: numpy==1.26.0 in ./.env/lib/python3.10/site-packages (from -r requirements.txt (line 30)) (1.26.0)\n",
      "Requirement already satisfied: packaging==23.2 in ./.env/lib/python3.10/site-packages (from -r requirements.txt (line 31)) (23.2)\n",
      "Requirement already satisfied: pandas==2.1.1 in ./.env/lib/python3.10/site-packages (from -r requirements.txt (line 32)) (2.1.1)\n",
      "Requirement already satisfied: parso==0.8.3 in ./.env/lib/python3.10/site-packages (from -r requirements.txt (line 33)) (0.8.3)\n",
      "Requirement already satisfied: pexpect==4.8.0 in ./.env/lib/python3.10/site-packages (from -r requirements.txt (line 34)) (4.8.0)\n",
      "Requirement already satisfied: pickleshare==0.7.5 in ./.env/lib/python3.10/site-packages (from -r requirements.txt (line 35)) (0.7.5)\n",
      "Requirement already satisfied: platformdirs==3.11.0 in ./.env/lib/python3.10/site-packages (from -r requirements.txt (line 36)) (3.11.0)\n",
      "Requirement already satisfied: plotly==5.17.0 in ./.env/lib/python3.10/site-packages (from -r requirements.txt (line 37)) (5.17.0)\n",
      "Requirement already satisfied: prompt-toolkit==3.0.39 in ./.env/lib/python3.10/site-packages (from -r requirements.txt (line 38)) (3.0.39)\n",
      "Requirement already satisfied: psutil==5.9.5 in ./.env/lib/python3.10/site-packages (from -r requirements.txt (line 39)) (5.9.5)\n",
      "Requirement already satisfied: ptyprocess==0.7.0 in ./.env/lib/python3.10/site-packages (from -r requirements.txt (line 40)) (0.7.0)\n",
      "Requirement already satisfied: pure-eval==0.2.2 in ./.env/lib/python3.10/site-packages (from -r requirements.txt (line 41)) (0.2.2)\n",
      "Requirement already satisfied: Pygments==2.16.1 in ./.env/lib/python3.10/site-packages (from -r requirements.txt (line 42)) (2.16.1)\n",
      "Requirement already satisfied: python-dateutil==2.8.2 in ./.env/lib/python3.10/site-packages (from -r requirements.txt (line 43)) (2.8.2)\n",
      "Requirement already satisfied: pytz==2023.3.post1 in ./.env/lib/python3.10/site-packages (from -r requirements.txt (line 44)) (2023.3.post1)\n",
      "Requirement already satisfied: pyzmq==25.1.1 in ./.env/lib/python3.10/site-packages (from -r requirements.txt (line 45)) (25.1.1)\n",
      "Requirement already satisfied: requests==2.31.0 in ./.env/lib/python3.10/site-packages (from -r requirements.txt (line 46)) (2.31.0)\n",
      "Requirement already satisfied: retrying==1.3.4 in ./.env/lib/python3.10/site-packages (from -r requirements.txt (line 47)) (1.3.4)\n",
      "Requirement already satisfied: six==1.16.0 in ./.env/lib/python3.10/site-packages (from -r requirements.txt (line 48)) (1.16.0)\n",
      "Requirement already satisfied: stack-data==0.6.3 in ./.env/lib/python3.10/site-packages (from -r requirements.txt (line 49)) (0.6.3)\n",
      "Requirement already satisfied: tenacity==8.2.3 in ./.env/lib/python3.10/site-packages (from -r requirements.txt (line 50)) (8.2.3)\n",
      "Requirement already satisfied: tornado==6.3.3 in ./.env/lib/python3.10/site-packages (from -r requirements.txt (line 51)) (6.3.3)\n",
      "Requirement already satisfied: traitlets==5.11.2 in ./.env/lib/python3.10/site-packages (from -r requirements.txt (line 52)) (5.11.2)\n",
      "Requirement already satisfied: typing_extensions==4.8.0 in ./.env/lib/python3.10/site-packages (from -r requirements.txt (line 53)) (4.8.0)\n",
      "Requirement already satisfied: tzdata==2023.3 in ./.env/lib/python3.10/site-packages (from -r requirements.txt (line 54)) (2023.3)\n",
      "Requirement already satisfied: urllib3==2.0.6 in ./.env/lib/python3.10/site-packages (from -r requirements.txt (line 55)) (2.0.6)\n",
      "Requirement already satisfied: wcwidth==0.2.8 in ./.env/lib/python3.10/site-packages (from -r requirements.txt (line 56)) (0.2.8)\n",
      "Requirement already satisfied: Werkzeug==2.2.3 in ./.env/lib/python3.10/site-packages (from -r requirements.txt (line 57)) (2.2.3)\n",
      "Requirement already satisfied: zipp==3.17.0 in ./.env/lib/python3.10/site-packages (from -r requirements.txt (line 58)) (3.17.0)\n",
      "Requirement already satisfied: setuptools in ./.env/lib/python3.10/site-packages (from dash==2.14.0->-r requirements.txt (line 9)) (57.4.0)\n",
      "\u001b[33mWARNING: You are using pip version 21.2.3; however, version 23.2.1 is available.\n",
      "You should consider upgrading via the '/Users/macbook/Desktop/Dev/fhg99.github.io/Projects/Data/DataAnalysis/MexicoCrimeDashboard/.env/bin/Python3 -m pip install --upgrade pip' command.\u001b[0m\n"
     ]
    }
   ],
   "source": [
    "!pip install -r requirements.txt"
   ]
  },
  {
   "cell_type": "markdown",
   "metadata": {},
   "source": [
    "Basic Imports"
   ]
  },
  {
   "cell_type": "code",
   "execution_count": 2,
   "metadata": {},
   "outputs": [],
   "source": [
    "import pandas as pd\n",
    "from pathlib import Path\n",
    "\n",
    "PROJECT_DIR = Path().parent.resolve()\n",
    "FILES_DIR = Path(PROJECT_DIR, 'Files')"
   ]
  },
  {
   "cell_type": "markdown",
   "metadata": {},
   "source": [
    "### **Load Data**\n",
    "\n",
    "The dataset used for this project was created by Diego Valle and can be accessed through his [webpage](https://elcri.men/acerca/)."
   ]
  },
  {
   "cell_type": "code",
   "execution_count": 3,
   "metadata": {},
   "outputs": [
    {
     "name": "stdout",
     "output_type": "stream",
     "text": [
      "Index(['state_code', 'state', 'bien_juridico', 'tipo', 'subtipo', 'modalidad',\n",
      "       'date', 'count', 'population'],\n",
      "      dtype='object')\n",
      "(326144, 9)\n"
     ]
    }
   ],
   "source": [
    "data = pd.read_csv(Path(FILES_DIR, 'nm-fuero-comun-estados.csv'))\n",
    "print(data.columns)\n",
    "print(data.shape)"
   ]
  },
  {
   "cell_type": "markdown",
   "metadata": {},
   "source": [
    "For this project we will allow the user to select several variables to filter the data, such as the state,\n",
    "the affected legal asset (legal term), the crimes' type, subtype and modality. All of these fields will also \n",
    "have the defautl option of \"Include All\" in orther to include all of the incidences in that category. These fields\n",
    "will be selected through a dropdown component, with the property of Multi set to True, except for the initial and\n",
    "final date fields of the time window, which should only hold one value out of all the posible dates found in the\n",
    "dataset."
   ]
  },
  {
   "cell_type": "markdown",
   "metadata": {},
   "source": [
    "For this, we need to create a list of dictionaries containing the posible state names for the dropdown\n",
    "to contain only states mentioned in the data. We also creat a dictionary for tbe option to select \n",
    "all posible values at once and insert it at index 0 of the options list."
   ]
  },
  {
   "cell_type": "code",
   "execution_count": 4,
   "metadata": {},
   "outputs": [
    {
     "data": {
      "text/plain": [
       "array(['AGUASCALIENTES', 'BAJA CALIFORNIA', 'BAJA CALIFORNIA SUR',\n",
       "       'CAMPECHE', 'COAHUILA', 'COLIMA', 'CHIAPAS', 'CHIHUAHUA',\n",
       "       'CIUDAD DE MÉXICO', 'DURANGO', 'GUANAJUATO', 'GUERRERO', 'HIDALGO',\n",
       "       'JALISCO', 'MÉXICO', 'MICHOACÁN', 'MORELOS', 'NAYARIT',\n",
       "       'NUEVO LEÓN', 'OAXACA', 'PUEBLA', 'QUERÉTARO', 'QUINTANA ROO',\n",
       "       'SAN LUIS POTOSÍ', 'SINALOA', 'SONORA', 'TABASCO', 'TAMAULIPAS',\n",
       "       'TLAXCALA', 'VERACRUZ', 'YUCATÁN', 'ZACATECAS'], dtype=object)"
      ]
     },
     "execution_count": 4,
     "metadata": {},
     "output_type": "execute_result"
    }
   ],
   "source": [
    "states = data['state'].unique()\n",
    "states"
   ]
  },
  {
   "cell_type": "code",
   "execution_count": 5,
   "metadata": {},
   "outputs": [
    {
     "data": {
      "text/plain": [
       "[{'label': 'INCLUIR TODOS', 'value': 'INCLUIR TODOS'},\n",
       " {'label': 'AGUASCALIENTES', 'value': 'AGUASCALIENTES'},\n",
       " {'label': 'BAJA CALIFORNIA', 'value': 'BAJA CALIFORNIA'},\n",
       " {'label': 'BAJA CALIFORNIA SUR', 'value': 'BAJA CALIFORNIA SUR'},\n",
       " {'label': 'CAMPECHE', 'value': 'CAMPECHE'},\n",
       " {'label': 'COAHUILA', 'value': 'COAHUILA'},\n",
       " {'label': 'COLIMA', 'value': 'COLIMA'},\n",
       " {'label': 'CHIAPAS', 'value': 'CHIAPAS'},\n",
       " {'label': 'CHIHUAHUA', 'value': 'CHIHUAHUA'},\n",
       " {'label': 'CIUDAD DE MÉXICO', 'value': 'CIUDAD DE MÉXICO'},\n",
       " {'label': 'DURANGO', 'value': 'DURANGO'},\n",
       " {'label': 'GUANAJUATO', 'value': 'GUANAJUATO'},\n",
       " {'label': 'GUERRERO', 'value': 'GUERRERO'},\n",
       " {'label': 'HIDALGO', 'value': 'HIDALGO'},\n",
       " {'label': 'JALISCO', 'value': 'JALISCO'},\n",
       " {'label': 'MÉXICO', 'value': 'MÉXICO'},\n",
       " {'label': 'MICHOACÁN', 'value': 'MICHOACÁN'},\n",
       " {'label': 'MORELOS', 'value': 'MORELOS'},\n",
       " {'label': 'NAYARIT', 'value': 'NAYARIT'},\n",
       " {'label': 'NUEVO LEÓN', 'value': 'NUEVO LEÓN'},\n",
       " {'label': 'OAXACA', 'value': 'OAXACA'},\n",
       " {'label': 'PUEBLA', 'value': 'PUEBLA'},\n",
       " {'label': 'QUERÉTARO', 'value': 'QUERÉTARO'},\n",
       " {'label': 'QUINTANA ROO', 'value': 'QUINTANA ROO'},\n",
       " {'label': 'SAN LUIS POTOSÍ', 'value': 'SAN LUIS POTOSÍ'},\n",
       " {'label': 'SINALOA', 'value': 'SINALOA'},\n",
       " {'label': 'SONORA', 'value': 'SONORA'},\n",
       " {'label': 'TABASCO', 'value': 'TABASCO'},\n",
       " {'label': 'TAMAULIPAS', 'value': 'TAMAULIPAS'},\n",
       " {'label': 'TLAXCALA', 'value': 'TLAXCALA'},\n",
       " {'label': 'VERACRUZ', 'value': 'VERACRUZ'},\n",
       " {'label': 'YUCATÁN', 'value': 'YUCATÁN'},\n",
       " {'label': 'ZACATECAS', 'value': 'ZACATECAS'}]"
      ]
     },
     "execution_count": 5,
     "metadata": {},
     "output_type": "execute_result"
    }
   ],
   "source": [
    "state_options = [{'label': state, 'value': state} for state in states]\n",
    "# 'INCLUIR TODOS' translates to 'INCLUDE ALL'\n",
    "show_all_option = {'label': 'INCLUIR TODOS', 'value': 'INCLUIR TODOS'}\n",
    "state_options.insert(0, show_all_option)\n",
    "state_options"
   ]
  },
  {
   "cell_type": "markdown",
   "metadata": {},
   "source": [
    "Now for the affected legal-asset options:"
   ]
  },
  {
   "cell_type": "code",
   "execution_count": 6,
   "metadata": {},
   "outputs": [
    {
     "data": {
      "text/plain": [
       "array(['EL PATRIMONIO', 'LA FAMILIA', 'LA LIBERTAD Y LA SEGURIDAD SEXUAL',\n",
       "       'LA SOCIEDAD', 'LA VIDA Y LA INTEGRIDAD CORPORAL',\n",
       "       'LIBERTAD PERSONAL',\n",
       "       'OTROS BIENES JURÍDICOS AFECTADOS (DEL FUERO COMÚN)'], dtype=object)"
      ]
     },
     "execution_count": 6,
     "metadata": {},
     "output_type": "execute_result"
    }
   ],
   "source": [
    "legal_assets = data['bien_juridico'].unique()\n",
    "legal_assets # The first 3 of them traduce to \"Heritage, Family, Sexual Freedom and Safety\""
   ]
  },
  {
   "cell_type": "code",
   "execution_count": 7,
   "metadata": {},
   "outputs": [
    {
     "data": {
      "text/plain": [
       "[{'label': 'INCLUIR TODOS', 'value': 'INCLUIR TODOS'},\n",
       " {'label': 'EL PATRIMONIO', 'value': 'EL PATRIMONIO'},\n",
       " {'label': 'LA FAMILIA', 'value': 'LA FAMILIA'},\n",
       " {'label': 'LA LIBERTAD Y LA SEGURIDAD SEXUAL',\n",
       "  'value': 'LA LIBERTAD Y LA SEGURIDAD SEXUAL'},\n",
       " {'label': 'LA SOCIEDAD', 'value': 'LA SOCIEDAD'},\n",
       " {'label': 'LA VIDA Y LA INTEGRIDAD CORPORAL',\n",
       "  'value': 'LA VIDA Y LA INTEGRIDAD CORPORAL'},\n",
       " {'label': 'LIBERTAD PERSONAL', 'value': 'LIBERTAD PERSONAL'},\n",
       " {'label': 'OTROS BIENES JURÍDICOS AFECTADOS (DEL FUERO COMÚN)',\n",
       "  'value': 'OTROS BIENES JURÍDICOS AFECTADOS (DEL FUERO COMÚN)'}]"
      ]
     },
     "execution_count": 7,
     "metadata": {},
     "output_type": "execute_result"
    }
   ],
   "source": [
    "legal_asset_options = [{'label': asset, 'value': asset} for asset in legal_assets]\n",
    "legal_asset_options.insert(0, show_all_option)\n",
    "legal_asset_options"
   ]
  },
  {
   "cell_type": "markdown",
   "metadata": {},
   "source": [
    "Now, once a legal asset is provided, the type, sub-type and modality of the crime can be determined, but\n",
    "each category has it's own posible sub categories available. For example, there are only certain type\n",
    "of crimes under a given legal asset, as there are only several sub-types of crimes given a certain crime\n",
    "type, and the same goes for modality. For this, we can create a function for each one of these 3 new \n",
    "categories, that returns the options list depending on the passed value of the previous category."
   ]
  },
  {
   "cell_type": "code",
   "execution_count": 8,
   "metadata": {},
   "outputs": [
    {
     "name": "stdout",
     "output_type": "stream",
     "text": [
      "EL PATRIMONIO\n"
     ]
    },
    {
     "data": {
      "text/plain": [
       "[{'label': 'INCLUIR TODOS', 'value': 'INCLUIR TODOS'},\n",
       " {'label': 'ABUSO DE CONFIANZA', 'value': 'ABUSO DE CONFIANZA'},\n",
       " {'label': 'DAÑO A LA PROPIEDAD', 'value': 'DAÑO A LA PROPIEDAD'},\n",
       " {'label': 'DESPOJO', 'value': 'DESPOJO'},\n",
       " {'label': 'EXTORSIÓN', 'value': 'EXTORSIÓN'},\n",
       " {'label': 'FRAUDE', 'value': 'FRAUDE'},\n",
       " {'label': 'OTROS DELITOS CONTRA EL PATRIMONIO',\n",
       "  'value': 'OTROS DELITOS CONTRA EL PATRIMONIO'},\n",
       " {'label': 'ROBO', 'value': 'ROBO'}]"
      ]
     },
     "execution_count": 8,
     "metadata": {},
     "output_type": "execute_result"
    }
   ],
   "source": [
    "# Default options: contains all possible crime types plus the \"Include All\" option.\n",
    "crime_types = data['tipo'].unique()\n",
    "crime_type_options = [{'label': crime_type, 'value': crime_type} for crime_type in crime_types]\n",
    "crime_type_options.insert(0, show_all_option)\n",
    "\n",
    "def get_type_options(selected_legal_assets):\n",
    "    crime_type_options = []\n",
    "    if('INCLUIR TODOS' in selected_legal_assets):\n",
    "        crime_types = data['tipo'].unique()\n",
    "    else:\n",
    "        crime_types = data[data['bien_juridico'].isin(selected_legal_assets)]['tipo'].unique()\n",
    "    crime_type_options = [{'label': crime_type, 'value': crime_type} for crime_type in crime_types]\n",
    "    crime_type_options.insert(0, show_all_option)\n",
    "    return crime_type_options\n",
    "\n",
    "# We test the function passing the first value in the legal_assets list a single element list.\n",
    "# We can see that for the affected legal asset of \"Heritage\" (\"EL PATRIMONIO\"), there are crime types \n",
    "# such as: \"Trust Abuse\" (\"ABUSO DE CONFIANZA\") and \"Property Damage\" (\"DAÑO A LA PROPIEDAD\")\n",
    "print(legal_assets[0])\n",
    "get_type_options([legal_assets[0]])"
   ]
  },
  {
   "cell_type": "markdown",
   "metadata": {},
   "source": [
    "A similar function is created for sub-type and modality."
   ]
  },
  {
   "cell_type": "code",
   "execution_count": 9,
   "metadata": {},
   "outputs": [
    {
     "data": {
      "text/plain": [
       "[{'label': 'INCLUIR TODOS', 'value': 'INCLUIR TODOS'},\n",
       " {'label': 'OTROS ROBOS', 'value': 'OTROS ROBOS'},\n",
       " {'label': 'ROBO A CASA HABITACIÓN', 'value': 'ROBO A CASA HABITACIÓN'},\n",
       " {'label': 'ROBO A INSTITUCIÓN BANCARIA',\n",
       "  'value': 'ROBO A INSTITUCIÓN BANCARIA'},\n",
       " {'label': 'ROBO A NEGOCIO', 'value': 'ROBO A NEGOCIO'},\n",
       " {'label': 'ROBO A TRANSEÚNTE EN ESPACIO ABIERTO AL PÚBLICO',\n",
       "  'value': 'ROBO A TRANSEÚNTE EN ESPACIO ABIERTO AL PÚBLICO'},\n",
       " {'label': 'ROBO A TRANSEÚNTE EN VÍA PÚBLICA',\n",
       "  'value': 'ROBO A TRANSEÚNTE EN VÍA PÚBLICA'},\n",
       " {'label': 'ROBO A TRANSPORTISTA', 'value': 'ROBO A TRANSPORTISTA'},\n",
       " {'label': 'ROBO DE AUTOPARTES', 'value': 'ROBO DE AUTOPARTES'},\n",
       " {'label': 'ROBO DE GANADO', 'value': 'ROBO DE GANADO'},\n",
       " {'label': 'ROBO DE MAQUINARIA', 'value': 'ROBO DE MAQUINARIA'},\n",
       " {'label': 'ROBO DE VEHÍCULO AUTOMOTOR',\n",
       "  'value': 'ROBO DE VEHÍCULO AUTOMOTOR'},\n",
       " {'label': 'ROBO EN TRANSPORTE INDIVIDUAL',\n",
       "  'value': 'ROBO EN TRANSPORTE INDIVIDUAL'},\n",
       " {'label': 'ROBO EN TRANSPORTE PÚBLICO COLECTIVO',\n",
       "  'value': 'ROBO EN TRANSPORTE PÚBLICO COLECTIVO'},\n",
       " {'label': 'ROBO EN TRANSPORTE PÚBLICO INDIVIDUAL',\n",
       "  'value': 'ROBO EN TRANSPORTE PÚBLICO INDIVIDUAL'}]"
      ]
     },
     "execution_count": 9,
     "metadata": {},
     "output_type": "execute_result"
    }
   ],
   "source": [
    "# Default options: contains all possible crime subtypes plus the \"Include All\" option.\n",
    "crime_sub_types = data['subtipo'].unique()\n",
    "crime_sub_type_options = [{'label': crime_sub_type, 'value': crime_sub_type} for crime_sub_type in crime_sub_types]\n",
    "crime_sub_type_options.insert(0, show_all_option)\n",
    "\n",
    "def get_sub_type_options(selected_crime_types):\n",
    "    crime_sub_type_options = []\n",
    "    if('INCLUIR TODOS' in selected_crime_types):\n",
    "        crime_sub_types = data['subtipo'].unique()\n",
    "    else:\n",
    "        crime_sub_types = data[data['tipo'].isin(selected_crime_types)]['subtipo'].unique()\n",
    "    crime_sub_type_options = [{'label': crime_sub_type, 'value': crime_sub_type} for crime_sub_type in crime_sub_types]\n",
    "    crime_sub_type_options.insert(0, show_all_option)\n",
    "    return crime_sub_type_options\n",
    "\n",
    "get_sub_type_options(['ROBO'])"
   ]
  },
  {
   "cell_type": "code",
   "execution_count": 10,
   "metadata": {},
   "outputs": [
    {
     "data": {
      "text/plain": [
       "[{'label': 'INCLUIR TODOS', 'value': 'INCLUIR TODOS'},\n",
       " {'label': 'CON VIOLENCIA', 'value': 'CON VIOLENCIA'},\n",
       " {'label': 'SIN VIOLENCIA', 'value': 'SIN VIOLENCIA'}]"
      ]
     },
     "execution_count": 10,
     "metadata": {},
     "output_type": "execute_result"
    }
   ],
   "source": [
    "# Default options: contains all possible crime modalities plus the \"Include All\" option.\n",
    "crime_modalities = data['modalidad'].unique()\n",
    "crime_modality_options = [{'label': crime_modality, 'value': crime_modality} for crime_modality in crime_modalities]\n",
    "crime_modality_options.insert(0, show_all_option)\n",
    "\n",
    "def get_modality_options(selected_crime_sub_types):\n",
    "    crime_modality_options = []\n",
    "    if('INCLUIR TODOS' in selected_crime_sub_types):\n",
    "        crime_modalities = data['modalidad'].unique()\n",
    "    else:\n",
    "        crime_modalities = data[data['subtipo'].isin(selected_crime_sub_types)]['modalidad'].unique()\n",
    "    crime_modality_options = [{'label': crime_modality, 'value': crime_modality} for crime_modality in crime_modalities]\n",
    "    crime_modality_options.insert(0, show_all_option)\n",
    "    return crime_modality_options\n",
    "\n",
    "get_modality_options(['ROBO A CASA HABITACIÓN'])"
   ]
  },
  {
   "cell_type": "markdown",
   "metadata": {},
   "source": [
    "Finally, we need to create the options lists for all for the possible dates."
   ]
  },
  {
   "cell_type": "code",
   "execution_count": 11,
   "metadata": {},
   "outputs": [
    {
     "data": {
      "text/plain": [
       "[{'label': '2015-01', 'value': '2015-01'},\n",
       " {'label': '2015-02', 'value': '2015-02'},\n",
       " {'label': '2015-03', 'value': '2015-03'},\n",
       " {'label': '2015-04', 'value': '2015-04'},\n",
       " {'label': '2015-05', 'value': '2015-05'},\n",
       " {'label': '2015-06', 'value': '2015-06'},\n",
       " {'label': '2015-07', 'value': '2015-07'},\n",
       " {'label': '2015-08', 'value': '2015-08'},\n",
       " {'label': '2015-09', 'value': '2015-09'},\n",
       " {'label': '2015-10', 'value': '2015-10'},\n",
       " {'label': '2015-11', 'value': '2015-11'},\n",
       " {'label': '2015-12', 'value': '2015-12'},\n",
       " {'label': '2016-01', 'value': '2016-01'},\n",
       " {'label': '2016-02', 'value': '2016-02'},\n",
       " {'label': '2016-03', 'value': '2016-03'},\n",
       " {'label': '2016-04', 'value': '2016-04'},\n",
       " {'label': '2016-05', 'value': '2016-05'},\n",
       " {'label': '2016-06', 'value': '2016-06'},\n",
       " {'label': '2016-07', 'value': '2016-07'},\n",
       " {'label': '2016-08', 'value': '2016-08'},\n",
       " {'label': '2016-09', 'value': '2016-09'},\n",
       " {'label': '2016-10', 'value': '2016-10'},\n",
       " {'label': '2016-11', 'value': '2016-11'},\n",
       " {'label': '2016-12', 'value': '2016-12'},\n",
       " {'label': '2017-01', 'value': '2017-01'},\n",
       " {'label': '2017-02', 'value': '2017-02'},\n",
       " {'label': '2017-03', 'value': '2017-03'},\n",
       " {'label': '2017-04', 'value': '2017-04'},\n",
       " {'label': '2017-05', 'value': '2017-05'},\n",
       " {'label': '2017-06', 'value': '2017-06'},\n",
       " {'label': '2017-07', 'value': '2017-07'},\n",
       " {'label': '2017-08', 'value': '2017-08'},\n",
       " {'label': '2017-09', 'value': '2017-09'},\n",
       " {'label': '2017-10', 'value': '2017-10'},\n",
       " {'label': '2017-11', 'value': '2017-11'},\n",
       " {'label': '2017-12', 'value': '2017-12'},\n",
       " {'label': '2018-01', 'value': '2018-01'},\n",
       " {'label': '2018-02', 'value': '2018-02'},\n",
       " {'label': '2018-03', 'value': '2018-03'},\n",
       " {'label': '2018-04', 'value': '2018-04'},\n",
       " {'label': '2018-05', 'value': '2018-05'},\n",
       " {'label': '2018-06', 'value': '2018-06'},\n",
       " {'label': '2018-07', 'value': '2018-07'},\n",
       " {'label': '2018-08', 'value': '2018-08'},\n",
       " {'label': '2018-09', 'value': '2018-09'},\n",
       " {'label': '2018-10', 'value': '2018-10'},\n",
       " {'label': '2018-11', 'value': '2018-11'},\n",
       " {'label': '2018-12', 'value': '2018-12'},\n",
       " {'label': '2019-01', 'value': '2019-01'},\n",
       " {'label': '2019-02', 'value': '2019-02'},\n",
       " {'label': '2019-03', 'value': '2019-03'},\n",
       " {'label': '2019-04', 'value': '2019-04'},\n",
       " {'label': '2019-05', 'value': '2019-05'},\n",
       " {'label': '2019-06', 'value': '2019-06'},\n",
       " {'label': '2019-07', 'value': '2019-07'},\n",
       " {'label': '2019-08', 'value': '2019-08'},\n",
       " {'label': '2019-09', 'value': '2019-09'},\n",
       " {'label': '2019-10', 'value': '2019-10'},\n",
       " {'label': '2019-11', 'value': '2019-11'},\n",
       " {'label': '2019-12', 'value': '2019-12'},\n",
       " {'label': '2020-01', 'value': '2020-01'},\n",
       " {'label': '2020-02', 'value': '2020-02'},\n",
       " {'label': '2020-03', 'value': '2020-03'},\n",
       " {'label': '2020-04', 'value': '2020-04'},\n",
       " {'label': '2020-05', 'value': '2020-05'},\n",
       " {'label': '2020-06', 'value': '2020-06'},\n",
       " {'label': '2020-07', 'value': '2020-07'},\n",
       " {'label': '2020-08', 'value': '2020-08'},\n",
       " {'label': '2020-09', 'value': '2020-09'},\n",
       " {'label': '2020-10', 'value': '2020-10'},\n",
       " {'label': '2020-11', 'value': '2020-11'},\n",
       " {'label': '2020-12', 'value': '2020-12'},\n",
       " {'label': '2021-01', 'value': '2021-01'},\n",
       " {'label': '2021-02', 'value': '2021-02'},\n",
       " {'label': '2021-03', 'value': '2021-03'},\n",
       " {'label': '2021-04', 'value': '2021-04'},\n",
       " {'label': '2021-05', 'value': '2021-05'},\n",
       " {'label': '2021-06', 'value': '2021-06'},\n",
       " {'label': '2021-07', 'value': '2021-07'},\n",
       " {'label': '2021-08', 'value': '2021-08'},\n",
       " {'label': '2021-09', 'value': '2021-09'},\n",
       " {'label': '2021-10', 'value': '2021-10'},\n",
       " {'label': '2021-11', 'value': '2021-11'},\n",
       " {'label': '2021-12', 'value': '2021-12'},\n",
       " {'label': '2022-01', 'value': '2022-01'},\n",
       " {'label': '2022-02', 'value': '2022-02'},\n",
       " {'label': '2022-03', 'value': '2022-03'},\n",
       " {'label': '2022-04', 'value': '2022-04'},\n",
       " {'label': '2022-05', 'value': '2022-05'},\n",
       " {'label': '2022-06', 'value': '2022-06'},\n",
       " {'label': '2022-07', 'value': '2022-07'},\n",
       " {'label': '2022-08', 'value': '2022-08'},\n",
       " {'label': '2022-09', 'value': '2022-09'},\n",
       " {'label': '2022-10', 'value': '2022-10'},\n",
       " {'label': '2022-11', 'value': '2022-11'},\n",
       " {'label': '2022-12', 'value': '2022-12'},\n",
       " {'label': '2023-01', 'value': '2023-01'},\n",
       " {'label': '2023-02', 'value': '2023-02'},\n",
       " {'label': '2023-03', 'value': '2023-03'},\n",
       " {'label': '2023-04', 'value': '2023-04'},\n",
       " {'label': '2023-05', 'value': '2023-05'},\n",
       " {'label': '2023-06', 'value': '2023-06'},\n",
       " {'label': '2023-07', 'value': '2023-07'},\n",
       " {'label': '2023-08', 'value': '2023-08'}]"
      ]
     },
     "execution_count": 11,
     "metadata": {},
     "output_type": "execute_result"
    }
   ],
   "source": [
    "dates = data['date'].unique()\n",
    "date_options = [{'label': date, 'value': date} for date in dates]\n",
    "date_options"
   ]
  },
  {
   "cell_type": "markdown",
   "metadata": {},
   "source": [
    "### **Initialize Application and Imports**\n"
   ]
  },
  {
   "cell_type": "code",
   "execution_count": 12,
   "metadata": {},
   "outputs": [],
   "source": [
    "# Import packages\n",
    "from dash import Dash, html, dcc, Output, Input\n",
    "import plotly.express as px\n",
    "\n",
    "# Initialize the app\n",
    "app = Dash(__name__)"
   ]
  },
  {
   "cell_type": "markdown",
   "metadata": {},
   "source": [
    "### **Define Layout**\n"
   ]
  },
  {
   "cell_type": "code",
   "execution_count": 13,
   "metadata": {},
   "outputs": [],
   "source": [
    "# App layout\n",
    "app.layout = html.Div([\n",
    "    html.H1('Incidencia Delictiva en México / Crime Incidence in Mexico',\n",
    "            style={'fontSize': '2rem',\n",
    "                   'text-align': 'center'}),\n",
    "    html.Div([\n",
    "        html.Label(\"Estado / State:\",\n",
    "                   style={'font-size': '1.2rem'}),\n",
    "        dcc.Dropdown(\n",
    "            id='dropdown-state',\n",
    "            options=state_options,\n",
    "            value=['INCLUIR TODOS'],\n",
    "            placeholder='ESTADO / STATE',\n",
    "            multi=True,\n",
    "            style={'margin-top': '0.2rem',\n",
    "                   'margin-bottom': '0.3rem'}\n",
    "        )\n",
    "    ]),\n",
    "    html.Div([\n",
    "        html.Label(\"Bien Jurídico Afectado / Affected Legal Asset:\",\n",
    "                   style={'font-size': '1.2rem'}),\n",
    "        dcc.Dropdown(\n",
    "            id='dropdown-legal-asset',\n",
    "            options=legal_asset_options,\n",
    "            value=['INCLUIR TODOS'],\n",
    "            placeholder='BIEN JURÍDICO AFECTADO / AFFECTED LEGAL ASSET',\n",
    "            multi=True,\n",
    "            style={'margin-top': '0.2rem',\n",
    "                   'margin-bottom': '0.3rem'}\n",
    "        )\n",
    "    ]),\n",
    "    html.Div([\n",
    "        html.Label(\"Tipo / Type:\",\n",
    "                   style={'font-size': '1.2rem'}),\n",
    "        dcc.Dropdown(\n",
    "            id='dropdown-type',\n",
    "            options=crime_type_options,\n",
    "            value=['INCLUIR TODOS'],\n",
    "            placeholder='TIPO / TYPE',\n",
    "            multi=True,\n",
    "            style={'margin-top': '0.2rem',\n",
    "                   'margin-bottom': '0.3rem'}\n",
    "        )\n",
    "    ]),\n",
    "    html.Div([\n",
    "        html.Label(\"Subtipo / Subtype:\",\n",
    "                   style={'font-size': '1.2rem'}),\n",
    "        dcc.Dropdown(\n",
    "            id='dropdown-sub-type',\n",
    "            options=crime_sub_type_options,\n",
    "            value=['INCLUIR TODOS'],\n",
    "            placeholder='SUBTIPO / SUBTYPE',\n",
    "            multi=True,\n",
    "            style={'margin-top': '0.2rem',\n",
    "                   'margin-bottom': '0.3rem'}\n",
    "        )\n",
    "    ]),\n",
    "    html.Div([\n",
    "        html.Label(\"Modalidad / Modality:\",\n",
    "                   style={'font-size': '1.2rem'}),\n",
    "        dcc.Dropdown(\n",
    "            id='dropdown-modality',\n",
    "            options=crime_modality_options,\n",
    "            value=['INCLUIR TODOS'],\n",
    "            placeholder='MODALIDAD / MODALITY',\n",
    "            multi=True,\n",
    "            style={'margin-top': '0.2rem',\n",
    "                   'margin-bottom': '0.3rem'}\n",
    "        )\n",
    "    ]),\n",
    "    html.Div([\n",
    "        html.Div([\n",
    "            html.Label(\"Fecha Inicial / Initial Date:\",\n",
    "                   style={'font-size': '1.2rem'}),\n",
    "            dcc.Dropdown(\n",
    "                id='dropdown-initial-date',\n",
    "                options=date_options,\n",
    "                value=dates[0],\n",
    "                placeholder='FECHA INICIO / INITIAL DATE',\n",
    "                style={'margin-top': '0.2rem',\n",
    "                    'margin-bottom': '0.3rem',\n",
    "                    'width': '20rem'}\n",
    "            )\n",
    "        ]),\n",
    "        html.Div([\n",
    "            html.Label(\"Fecha Final / Final Date:\",\n",
    "                   style={'font-size': '1.2rem'}),\n",
    "            dcc.Dropdown(\n",
    "                id='dropdown-final-date',\n",
    "                options=date_options,\n",
    "                value=dates[-1],\n",
    "                placeholder='FECHA FINAL / FINAL DATE',\n",
    "                style={'margin-top': '0.2rem',\n",
    "                    'margin-bottom': '0.3rem',\n",
    "                    'width': '20rem'}\n",
    "            )\n",
    "        ])\n",
    "    ], style={'display': 'inline-flex'}),\n",
    "    html.Div([\n",
    "        html.Div(id='output-container', className='chart-grid', style={'display': 'flex'})\n",
    "    ])\n",
    "])"
   ]
  },
  {
   "cell_type": "markdown",
   "metadata": {},
   "source": [
    "### **Callback Functions**\n",
    "<br>\n",
    "This firt callback function listens to changes in the affectd legal asset dropdown in order to \n",
    "change the options of the other dropdowns.\n"
   ]
  },
  {
   "cell_type": "code",
   "execution_count": 14,
   "metadata": {},
   "outputs": [],
   "source": [
    "@app.callback(\n",
    "    Output(component_id='dropdown-type', component_property='options'),\n",
    "    Input(component_id='dropdown-legal-asset',component_property='value'))\n",
    "def update_input_container(selected_legal_assets):\n",
    "    return get_type_options(selected_legal_assets)\n",
    "\n",
    "\n",
    "@app.callback(\n",
    "    Output(component_id='dropdown-sub-type', component_property='options'),\n",
    "    Input(component_id='dropdown-type',component_property='value'))\n",
    "def update_input_container(selected_crime_types):\n",
    "    return get_sub_type_options(selected_crime_types)\n",
    "\n",
    "@app.callback(\n",
    "    Output(component_id='dropdown-modality', component_property='options'),\n",
    "    Input(component_id='dropdown-sub-type',component_property='value'))\n",
    "def update_input_container(selected_crime_sub_types):\n",
    "    return get_modality_options(selected_crime_sub_types)"
   ]
  },
  {
   "cell_type": "markdown",
   "metadata": {},
   "source": [
    "Finally, we add the callback to listen to any changes in the input data and to add both graphs to the output container.\n",
    "For those dropdowns that have the \"Include All\" option available, if that option is selected then no filtering is\n",
    "done for that specific variable."
   ]
  },
  {
   "cell_type": "code",
   "execution_count": 15,
   "metadata": {},
   "outputs": [],
   "source": [
    "# Callback for plotting\n",
    "@app.callback(\n",
    "    Output(component_id='output-container', component_property='children'),\n",
    "    [Input(component_id='dropdown-state', component_property='value'), \n",
    "     Input(component_id='dropdown-legal-asset', component_property='value'),\n",
    "     Input(component_id='dropdown-type', component_property='value'),\n",
    "     Input(component_id='dropdown-sub-type', component_property='value'),\n",
    "     Input(component_id='dropdown-modality', component_property='value'),\n",
    "     Input(component_id='dropdown-initial-date', component_property='value'),\n",
    "     Input(component_id='dropdown-final-date', component_property='value')])\n",
    "\n",
    "def update_output_container(selected_states,\n",
    "                            selected_legal_assets,\n",
    "                            selected_types,\n",
    "                            selected_sub_types,\n",
    "                            selected_modalities,\n",
    "                            selected_initial_date,\n",
    "                            selected_final_date):\n",
    "    selected_data = data.copy()\n",
    "    if('INCLUIR TODOS' not in selected_states):\n",
    "        selected_data = data[data['state'].isin(selected_states)]\n",
    "    if('INCLUIR TODOS' not in selected_legal_assets):\n",
    "        selected_data = selected_data[selected_data['bien_juridico'].isin(selected_legal_assets)]\n",
    "    if('INCLUIR TODOS' not in selected_types):\n",
    "        selected_data = selected_data[selected_data['tipo'].isin(selected_types)]\n",
    "    if('INCLUIR TODOS' not in selected_sub_types):\n",
    "        selected_data = selected_data[selected_data['subtipo'].isin(selected_sub_types)]\n",
    "    if('INCLUIR TODOS' not in selected_modalities):\n",
    "        selected_data = selected_data[selected_data['modalidad'].isin(selected_modalities)]\n",
    "    selected_data['date'] = pd.to_datetime(selected_data['date']).copy()\n",
    "    selected_data = selected_data[(selected_data['date'] >= selected_initial_date) & (selected_data['date'] <= selected_final_date)]\n",
    "\n",
    "# Line Graph\n",
    "    monthly_data = selected_data.groupby('date')['count'].sum().reset_index()\n",
    "    R_chart1 = dcc.Graph(\n",
    "            figure=px.line(monthly_data, \n",
    "            x='date',\n",
    "            y='count',\n",
    "            title=\"Conteo Total de Incidencias <br>Total Incidence Count\"))\n",
    "\n",
    "# Pie Chart\n",
    "    state_data = selected_data.groupby('state')['count'].sum().reset_index()\n",
    "    R_chart2 = dcc.Graph(\n",
    "            figure=px.pie(state_data,\n",
    "            values='count',\n",
    "            names='state',\n",
    "                 title=\"Incidencias por Estado <br>Incidences by State\"))\n",
    "\n",
    "    return [\n",
    "            html.Div(className='chart-item', children=[html.Div(children=R_chart1),html.Div(children=R_chart2)],style={'display': 'flex'})\n",
    "            ]"
   ]
  },
  {
   "cell_type": "markdown",
   "metadata": {},
   "source": [
    "### **Run the App**\n",
    "<br>\n",
    "We can now run the application. It can be locally accessed through -> http://localhost:8050/\n"
   ]
  },
  {
   "cell_type": "code",
   "execution_count": 16,
   "metadata": {},
   "outputs": [
    {
     "data": {
      "text/html": [
       "\n",
       "        <iframe\n",
       "            width=\"100%\"\n",
       "            height=\"650\"\n",
       "            src=\"http://127.0.0.1:8050/\"\n",
       "            frameborder=\"0\"\n",
       "            allowfullscreen\n",
       "            \n",
       "        ></iframe>\n",
       "        "
      ],
      "text/plain": [
       "<IPython.lib.display.IFrame at 0x125dca410>"
      ]
     },
     "metadata": {},
     "output_type": "display_data"
    },
    {
     "name": "stderr",
     "output_type": "stream",
     "text": [
      "/var/folders/nv/2ttrxtqn3bq9pxbngrkdlckw0000gn/T/ipykernel_89230/1643754902.py:30: SettingWithCopyWarning:\n",
      "\n",
      "\n",
      "A value is trying to be set on a copy of a slice from a DataFrame.\n",
      "Try using .loc[row_indexer,col_indexer] = value instead\n",
      "\n",
      "See the caveats in the documentation: https://pandas.pydata.org/pandas-docs/stable/user_guide/indexing.html#returning-a-view-versus-a-copy\n",
      "\n",
      "/var/folders/nv/2ttrxtqn3bq9pxbngrkdlckw0000gn/T/ipykernel_89230/1643754902.py:30: SettingWithCopyWarning:\n",
      "\n",
      "\n",
      "A value is trying to be set on a copy of a slice from a DataFrame.\n",
      "Try using .loc[row_indexer,col_indexer] = value instead\n",
      "\n",
      "See the caveats in the documentation: https://pandas.pydata.org/pandas-docs/stable/user_guide/indexing.html#returning-a-view-versus-a-copy\n",
      "\n",
      "/var/folders/nv/2ttrxtqn3bq9pxbngrkdlckw0000gn/T/ipykernel_89230/1643754902.py:30: SettingWithCopyWarning:\n",
      "\n",
      "\n",
      "A value is trying to be set on a copy of a slice from a DataFrame.\n",
      "Try using .loc[row_indexer,col_indexer] = value instead\n",
      "\n",
      "See the caveats in the documentation: https://pandas.pydata.org/pandas-docs/stable/user_guide/indexing.html#returning-a-view-versus-a-copy\n",
      "\n",
      "/var/folders/nv/2ttrxtqn3bq9pxbngrkdlckw0000gn/T/ipykernel_89230/1643754902.py:30: SettingWithCopyWarning:\n",
      "\n",
      "\n",
      "A value is trying to be set on a copy of a slice from a DataFrame.\n",
      "Try using .loc[row_indexer,col_indexer] = value instead\n",
      "\n",
      "See the caveats in the documentation: https://pandas.pydata.org/pandas-docs/stable/user_guide/indexing.html#returning-a-view-versus-a-copy\n",
      "\n",
      "/var/folders/nv/2ttrxtqn3bq9pxbngrkdlckw0000gn/T/ipykernel_89230/1643754902.py:30: SettingWithCopyWarning:\n",
      "\n",
      "\n",
      "A value is trying to be set on a copy of a slice from a DataFrame.\n",
      "Try using .loc[row_indexer,col_indexer] = value instead\n",
      "\n",
      "See the caveats in the documentation: https://pandas.pydata.org/pandas-docs/stable/user_guide/indexing.html#returning-a-view-versus-a-copy\n",
      "\n",
      "/var/folders/nv/2ttrxtqn3bq9pxbngrkdlckw0000gn/T/ipykernel_89230/1643754902.py:30: SettingWithCopyWarning:\n",
      "\n",
      "\n",
      "A value is trying to be set on a copy of a slice from a DataFrame.\n",
      "Try using .loc[row_indexer,col_indexer] = value instead\n",
      "\n",
      "See the caveats in the documentation: https://pandas.pydata.org/pandas-docs/stable/user_guide/indexing.html#returning-a-view-versus-a-copy\n",
      "\n",
      "/var/folders/nv/2ttrxtqn3bq9pxbngrkdlckw0000gn/T/ipykernel_89230/1643754902.py:30: SettingWithCopyWarning:\n",
      "\n",
      "\n",
      "A value is trying to be set on a copy of a slice from a DataFrame.\n",
      "Try using .loc[row_indexer,col_indexer] = value instead\n",
      "\n",
      "See the caveats in the documentation: https://pandas.pydata.org/pandas-docs/stable/user_guide/indexing.html#returning-a-view-versus-a-copy\n",
      "\n"
     ]
    }
   ],
   "source": [
    "# Ignore deprecation and future warnings\n",
    "import warnings\n",
    "warnings.filterwarnings('ignore', category=DeprecationWarning)\n",
    "warnings.filterwarnings('ignore', category=FutureWarning)\n",
    "\n",
    "# Run the app\n",
    "if __name__ == '__main__':\n",
    "    app.run(debug=True, use_reloader=False)"
   ]
  },
  {
   "cell_type": "markdown",
   "metadata": {},
   "source": [
    "### **Examlple of Usage**\n",
    "\n",
    "<video controls src=\"Files/usage.mp4\" />\n"
   ]
  },
  {
   "cell_type": "code",
   "execution_count": null,
   "metadata": {},
   "outputs": [],
   "source": []
  }
 ],
 "metadata": {
  "kernelspec": {
   "display_name": ".env",
   "language": "python",
   "name": "python3"
  },
  "language_info": {
   "codemirror_mode": {
    "name": "ipython",
    "version": 3
   },
   "file_extension": ".py",
   "mimetype": "text/x-python",
   "name": "python",
   "nbconvert_exporter": "python",
   "pygments_lexer": "ipython3",
   "version": "3.10.0"
  },
  "orig_nbformat": 4
 },
 "nbformat": 4,
 "nbformat_minor": 2
}
